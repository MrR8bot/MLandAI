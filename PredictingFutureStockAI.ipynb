{
  "cells": [
    {
      "cell_type": "markdown",
      "metadata": {
        "id": "H8vleP-vfX9y"
      },
      "source": []
    },
    {
      "cell_type": "markdown",
      "metadata": {
        "id": "oYLHF5PQfZKm"
      },
      "source": [
        "#Predicting Future Stock Market Trends with Python & Machine Learning"
      ]
    },
    {
      "cell_type": "markdown",
      "metadata": {
        "id": "h8bGHK63tr1B"
      },
      "source": [
        "Credit:  https://github.com/lucasrea/StockForecast/blob/master/StockAnalysis.ipynb"
      ]
    },
    {
      "cell_type": "markdown",
      "metadata": {
        "id": "_eeyPPLvffeP"
      },
      "source": [
        "Step 1. Imports and Data Collection"
      ]
    },
    {
      "cell_type": "code",
      "execution_count": null,
      "metadata": {
        "colab": {
          "base_uri": "https://localhost:8080/"
        },
        "id": "9Jsqt4T9fqYL",
        "outputId": "68ff3989-e529-4261-b4e1-edb0f46136ea"
      },
      "outputs": [
        {
          "name": "stdout",
          "output_type": "stream",
          "text": [
            "Looking in indexes: https://pypi.org/simple, https://us-python.pkg.dev/colab-wheels/public/simple/\n",
            "Requirement already satisfied: yfinance in /usr/local/lib/python3.7/dist-packages (0.1.74)\n",
            "Requirement already satisfied: lxml>=4.5.1 in /usr/local/lib/python3.7/dist-packages (from yfinance) (4.9.1)\n",
            "Requirement already satisfied: requests>=2.26 in /usr/local/lib/python3.7/dist-packages (from yfinance) (2.28.1)\n",
            "Requirement already satisfied: numpy>=1.15 in /usr/local/lib/python3.7/dist-packages (from yfinance) (1.21.6)\n",
            "Requirement already satisfied: multitasking>=0.0.7 in /usr/local/lib/python3.7/dist-packages (from yfinance) (0.0.11)\n",
            "Requirement already satisfied: pandas>=0.24.0 in /usr/local/lib/python3.7/dist-packages (from yfinance) (1.3.5)\n",
            "Requirement already satisfied: python-dateutil>=2.7.3 in /usr/local/lib/python3.7/dist-packages (from pandas>=0.24.0->yfinance) (2.8.2)\n",
            "Requirement already satisfied: pytz>=2017.3 in /usr/local/lib/python3.7/dist-packages (from pandas>=0.24.0->yfinance) (2022.2.1)\n",
            "Requirement already satisfied: six>=1.5 in /usr/local/lib/python3.7/dist-packages (from python-dateutil>=2.7.3->pandas>=0.24.0->yfinance) (1.15.0)\n",
            "Requirement already satisfied: charset-normalizer<3,>=2 in /usr/local/lib/python3.7/dist-packages (from requests>=2.26->yfinance) (2.1.1)\n",
            "Requirement already satisfied: idna<4,>=2.5 in /usr/local/lib/python3.7/dist-packages (from requests>=2.26->yfinance) (2.10)\n",
            "Requirement already satisfied: urllib3<1.27,>=1.21.1 in /usr/local/lib/python3.7/dist-packages (from requests>=2.26->yfinance) (1.24.3)\n",
            "Requirement already satisfied: certifi>=2017.4.17 in /usr/local/lib/python3.7/dist-packages (from requests>=2.26->yfinance) (2022.6.15)\n"
          ]
        }
      ],
      "source": [
        "!pip install yfinance"
      ]
    },
    {
      "cell_type": "code",
      "execution_count": null,
      "metadata": {
        "colab": {
          "base_uri": "https://localhost:8080/"
        },
        "id": "OOLu6VhxgIGg",
        "outputId": "47cf9b75-a2c5-411c-875b-ca05bceca60d"
      },
      "outputs": [
        {
          "name": "stdout",
          "output_type": "stream",
          "text": [
            "Looking in indexes: https://pypi.org/simple, https://us-python.pkg.dev/colab-wheels/public/simple/\n",
            "Requirement already satisfied: finta in /usr/local/lib/python3.7/dist-packages (1.3)\n",
            "Requirement already satisfied: pandas in /usr/local/lib/python3.7/dist-packages (from finta) (1.3.5)\n",
            "Requirement already satisfied: numpy in /usr/local/lib/python3.7/dist-packages (from finta) (1.21.6)\n",
            "Requirement already satisfied: python-dateutil>=2.7.3 in /usr/local/lib/python3.7/dist-packages (from pandas->finta) (2.8.2)\n",
            "Requirement already satisfied: pytz>=2017.3 in /usr/local/lib/python3.7/dist-packages (from pandas->finta) (2022.2.1)\n",
            "Requirement already satisfied: six>=1.5 in /usr/local/lib/python3.7/dist-packages (from python-dateutil>=2.7.3->pandas->finta) (1.15.0)\n"
          ]
        }
      ],
      "source": [
        "!pip install finta"
      ]
    },
    {
      "cell_type": "code",
      "execution_count": null,
      "metadata": {
        "colab": {
          "base_uri": "https://localhost:8080/"
        },
        "id": "3QHGVDHuh9Jm",
        "outputId": "b170b650-8494-4648-efa1-8d765b3945b8"
      },
      "outputs": [
        {
          "name": "stdout",
          "output_type": "stream",
          "text": [
            "Looking in indexes: https://pypi.org/simple, https://us-python.pkg.dev/colab-wheels/public/simple/\n",
            "Requirement already satisfied: cryptocmd in /usr/local/lib/python3.7/dist-packages (0.6.1)\n",
            "Requirement already satisfied: requests in /usr/local/lib/python3.7/dist-packages (from cryptocmd) (2.28.1)\n",
            "Requirement already satisfied: tablib in /usr/local/lib/python3.7/dist-packages (from cryptocmd) (3.2.1)\n",
            "Requirement already satisfied: urllib3<1.27,>=1.21.1 in /usr/local/lib/python3.7/dist-packages (from requests->cryptocmd) (1.24.3)\n",
            "Requirement already satisfied: charset-normalizer<3,>=2 in /usr/local/lib/python3.7/dist-packages (from requests->cryptocmd) (2.1.1)\n",
            "Requirement already satisfied: idna<4,>=2.5 in /usr/local/lib/python3.7/dist-packages (from requests->cryptocmd) (2.10)\n",
            "Requirement already satisfied: certifi>=2017.4.17 in /usr/local/lib/python3.7/dist-packages (from requests->cryptocmd) (2022.6.15)\n"
          ]
        }
      ],
      "source": [
        "!pip install cryptocmd"
      ]
    },
    {
      "cell_type": "code",
      "execution_count": null,
      "metadata": {
        "id": "Y9iH7ek2fSj2"
      },
      "outputs": [],
      "source": [
        "import yfinance as yf\n",
        "import datetime\n",
        "import pandas as pd\n",
        "import numpy as np\n",
        "from finta import TA\n",
        "import matplotlib.pyplot as plt\n",
        "\n",
        "from sklearn import svm\n",
        "from sklearn.ensemble import RandomForestClassifier, GradientBoostingClassifier, VotingClassifier \n",
        "from sklearn.neighbors import KNeighborsClassifier\n",
        "from sklearn.model_selection import train_test_split, GridSearchCV\n",
        "from sklearn.metrics import confusion_matrix, classification_report, mean_squared_error, accuracy_score\n",
        "from sklearn.ensemble import AdaBoostClassifier\n",
        "from sklearn.ensemble import GradientBoostingClassifier\n",
        "from sklearn.ensemble import VotingClassifier\n",
        "from sklearn import metrics\n"
      ]
    },
    {
      "cell_type": "markdown",
      "metadata": {
        "id": "lXZlTxqhgkQT"
      },
      "source": [
        "Financial Technical Analysis Indicators\n",
        "\n",
        "https://github.com/peerchemist/finta"
      ]
    },
    {
      "cell_type": "code",
      "execution_count": null,
      "metadata": {
        "id": "Vgzb8twJgSYk"
      },
      "outputs": [],
      "source": [
        "\"\"\"\n",
        "Defining some constants for data mining\n",
        "\"\"\"\n",
        "\n",
        "NUM_DAYS = 10000     # The number of days of historical data to retrieve\n",
        "INTERVAL = '1d'     # Sample rate of historical data\n",
        "symbol = 'GE'      # Symbol of the desired stock. (e.g. GE, VOO. Vanguard 500 Index Fund ETF, )\n",
        "currency = ''\n",
        "crypto  = ''\n",
        "\n",
        "# List of symbols for technical indicators\n",
        "INDICATORS = ['RSI', 'MACD', 'STOCH','ADL', 'ATR', 'MOM', 'MFI', 'ROC', 'OBV', 'CCI', 'EMV', 'VORTEX']"
      ]
    },
    {
      "cell_type": "markdown",
      "metadata": {
        "id": "UeGZqp6UgvI6"
      },
      "source": [
        "Pull historical data from Yfinance and normalize the data"
      ]
    },
    {
      "cell_type": "code",
      "execution_count": null,
      "metadata": {
        "colab": {
          "base_uri": "https://localhost:8080/",
          "height": 446
        },
        "id": "m3JO8lW7gZHC",
        "outputId": "da8579d6-3a98-4e50-fdbe-aad80cf73617"
      },
      "outputs": [
        {
          "name": "stdout",
          "output_type": "stream",
          "text": [
            "\r[*********************100%***********************]  1 of 1 completed\n",
            "                 open       high        low      close  Adj Close   volume\n",
            "Date                                                                      \n",
            "1995-04-28  72.275642  72.756409  71.794868  71.794868  36.296970  1984554\n",
            "1995-05-01  71.794868  72.435898  71.794868  72.275642  36.540066  1347840\n",
            "1995-05-02  71.955132  72.435898  71.794868  72.115387  36.459015  1305096\n",
            "1995-05-03  72.275642  73.237183  72.275642  72.596153  36.702080  1691274\n",
            "1995-05-04  72.756409  74.198715  72.435898  73.237183  37.026165  2134236\n"
          ]
        },
        {
          "data": {
            "text/plain": [
              "<matplotlib.axes._subplots.AxesSubplot at 0x7fe29b400a50>"
            ]
          },
          "execution_count": 6,
          "metadata": {},
          "output_type": "execute_result"
        },
        {
          "data": {
            "image/png": "[encoded data removed]",
            "text/plain": [
              "<Figure size 432x288 with 1 Axes>"
            ]
          },
          "metadata": {},
          "output_type": "display_data"
        }
      ],
      "source": [
        "\"\"\"\n",
        "Next we pull the historical data using yfinance\n",
        "Rename the column names because finta uses the lowercase names\n",
        "\"\"\"\n",
        "\n",
        "start = (datetime.date.today() - datetime.timedelta( NUM_DAYS ) )\n",
        "end = datetime.datetime.today()\n",
        "\n",
        "data = yf.download(symbol, start=start, end=end, interval=INTERVAL)\n",
        "data.rename(columns={\"Close\": 'close', \"High\": 'high', \"Low\": 'low', 'Volume': 'volume', 'Open': 'open'}, inplace=True)\n",
        "print(data.head())\n",
        "\n",
        "tmp = data.iloc[-60:]\n",
        "tmp['close'].plot()"
      ]
    },
    {
      "cell_type": "markdown",
      "metadata": {
        "id": "bdo7791dikew"
      },
      "source": [
        "#Step 2. Data Processing & Feature Engineering"
      ]
    },
    {
      "cell_type": "code",
      "execution_count": null,
      "metadata": {
        "colab": {
          "base_uri": "https://localhost:8080/",
          "height": 303
        },
        "id": "mW1VVAhMihmo",
        "outputId": "fe1cbf60-6d45-45c4-be4a-a537af739bd1"
      },
      "outputs": [
        {
          "data": {
            "text/plain": [
              "<matplotlib.axes._subplots.AxesSubplot at 0x7fe29b2e2950>"
            ]
          },
          "execution_count": 7,
          "metadata": {},
          "output_type": "execute_result"
        },
        {
          "data": {
            "image/png": "[encoded data removed]",
            "text/plain": [
              "<Figure size 432x288 with 1 Axes>"
            ]
          },
          "metadata": {},
          "output_type": "display_data"
        }
      ],
      "source": [
        "\"\"\"\n",
        "Next we clean our data and perform feature engineering to create new technical indicator features that our\n",
        "model can learn from\n",
        "\"\"\"\n",
        "\n",
        "def _exponential_smooth(data, alpha):\n",
        "    \"\"\"\n",
        "    Function that exponentially smooths dataset so values are less 'rigid'\n",
        "    :param alpha: weight factor to weight recent values more\n",
        "    \"\"\"\n",
        "    \n",
        "    return data.ewm(alpha=alpha).mean()\n",
        "\n",
        "data = _exponential_smooth(data, 0.65)\n",
        "\n",
        "tmp1 = data.iloc[-60:]\n",
        "tmp1['close'].plot()"
      ]
    },
    {
      "cell_type": "markdown",
      "metadata": {
        "id": "t0eO1nSVi0vJ"
      },
      "source": [
        "#Compute Technical Indicators"
      ]
    },
    {
      "cell_type": "code",
      "execution_count": null,
      "metadata": {
        "colab": {
          "base_uri": "https://localhost:8080/"
        },
        "id": "PpsYABCsi3X4",
        "outputId": "e03e88b1-dbce-4830-9020-7d9a975579a0"
      },
      "outputs": [
        {
          "name": "stdout",
          "output_type": "stream",
          "text": [
            "Index(['close', '14 period RSI', 'MACD', 'SIGNAL', '14 period STOCH %K', 'MFV',\n",
            "       '14 period ATR', 'MOM', '14 period MFI', 'ROC', 'OBV', '20 period CCI',\n",
            "       '14 period EMV', 'VIm', 'VIp', 'ema50', 'ema21', 'ema15', 'ema5',\n",
            "       'normVol'],\n",
            "      dtype='object')\n"
          ]
        }
      ],
      "source": [
        "def _get_indicator_data(data):\n",
        "    \"\"\"\n",
        "    Function that uses the finta API to calculate technical indicators used as the features\n",
        "    :return:\n",
        "    \"\"\"\n",
        "\n",
        "    for indicator in INDICATORS:\n",
        "        ind_data = eval('TA.' + indicator + '(data)')\n",
        "        if not isinstance(ind_data, pd.DataFrame):\n",
        "            ind_data = ind_data.to_frame()\n",
        "        data = data.merge(ind_data, left_index=True, right_index=True)\n",
        "    data.rename(columns={\"14 period EMV.\": '14 period EMV'}, inplace=True)\n",
        "\n",
        "    # Also calculate moving averages for features\n",
        "    data['ema50'] = data['close'] / data['close'].ewm(50).mean()\n",
        "    data['ema21'] = data['close'] / data['close'].ewm(21).mean()\n",
        "    data['ema15'] = data['close'] / data['close'].ewm(14).mean()\n",
        "    data['ema5'] = data['close'] / data['close'].ewm(5).mean()\n",
        "\n",
        "    # Instead of using the actual volume value (which changes over time), we normalize it with a moving volume average\n",
        "    data['normVol'] = data['volume'] / data['volume'].ewm(5).mean()\n",
        "\n",
        "    # Remove columns that won't be used as features\n",
        "    del (data['open'])\n",
        "    del (data['high'])\n",
        "    del (data['low'])\n",
        "    del (data['volume'])\n",
        "    del (data['Adj Close'])\n",
        "    \n",
        "    return data\n",
        "\n",
        "data = _get_indicator_data(data)\n",
        "print(data.columns)"
      ]
    },
    {
      "cell_type": "markdown",
      "source": [
        "#Plot Technical Indicators"
      ],
      "metadata": {
        "id": "srdWxAq5D7GY"
      }
    },
    {
      "cell_type": "code",
      "source": [
        "def plot_technical_indicators(dataset, last_days):\n",
        "    plt.figure(figsize=(16, 10), dpi=100)\n",
        "    shape_0 = dataset.shape[0]\n",
        "    xmacd_ = shape_0-last_days\n",
        "    \n",
        "    dataset = dataset.iloc[-last_days:, :]\n",
        "    x_ = range(3, dataset.shape[0])\n",
        "    x_ =list(dataset.index)\n",
        "    \n",
        "    # Plot first subplot\n",
        "    plt.subplot(2, 1, 1)\n",
        "    plt.plot(dataset['MACD'],label='MACD', color='g',linestyle='--')\n",
        "    plt.plot(dataset['Close'],label='Closing Price', color='b')\n",
        "    plt.plot(dataset['14 period RSI'],label='RSI', color='y')\n",
        "    plt.plot(dataset['ema21'],label='EMA 21', color='r',linestyle='--')\n",
        "    plt.plot(dataset['upper_band'],label='Upper Band', color='c')\n",
        "    plt.plot(dataset['lower_band'],label='Lower Band', color='c')\n",
        "    \n",
        "    plt.fill_between(x_, dataset['lower_band'], dataset['upper_band'], alpha=0.35)\n",
        "    plt.title('Technical indicators - last {} days.'.format(last_days))\n",
        "    plt.ylabel('USD')\n",
        "    plt.legend()\n",
        "\n",
        "    # Plot second subplot\n",
        "    plt.subplot(2, 1, 2)\n",
        "    plt.title('MACD')\n",
        "    plt.plot(dataset['MACD'],label='MACD', linestyle='-.')\n",
        "    plt.hlines(15, xmacd_, shape_0, colors='g', linestyles='--')\n",
        "    plt.hlines(-15, xmacd_, shape_0, colors='g', linestyles='--')\n",
        "    plt.plot(dataset['14 period STOCH %K'],label='14 period STOCH %K', color='b',linestyle='-')\n",
        "  \n",
        "    plt.legend()\n",
        "    plt.show()"
      ],
      "metadata": {
        "id": "2cSsJF0-D_PD"
      },
      "execution_count": null,
      "outputs": []
    },
    {
      "cell_type": "markdown",
      "metadata": {
        "id": "GYr8_ZY-jBuH"
      },
      "source": [
        "Keep a small set of data to predict future values with"
      ]
    },
    {
      "cell_type": "code",
      "execution_count": null,
      "metadata": {
        "id": "3SPeRe1DjBDr"
      },
      "outputs": [],
      "source": [
        "live_pred_data = data.iloc[-16:-11]"
      ]
    },
    {
      "cell_type": "markdown",
      "metadata": {
        "id": "47zT1oxBjMZM"
      },
      "source": [
        "Next we calculate truth values.\n",
        "\n",
        "E.g. To buy(1) or sell(0)\n",
        "\n",
        "Note: We need to remove all the NaN value, as well as removing the 'close' column"
      ]
    },
    {
      "cell_type": "code",
      "execution_count": null,
      "metadata": {
        "colab": {
          "base_uri": "https://localhost:8080/"
        },
        "id": "gSJ7XwwejdpW",
        "outputId": "89234ae8-6fa9-44ad-9c3f-57734dbfa849"
      },
      "outputs": [
        {
          "name": "stdout",
          "output_type": "stream",
          "text": [
            "6863\n"
          ]
        }
      ],
      "source": [
        "def _produce_prediction(data, window):\n",
        "    \"\"\"\n",
        "    Function that produces the 'truth' values\n",
        "    At a given row, it looks 'window' rows ahead to see if the price increased (1) or decreased (0)\n",
        "    :param window: number of days, or rows to look ahead to see what the price did\n",
        "    \"\"\"\n",
        "    \n",
        "    prediction = (data.shift(-window)['close'] >= data['close'])\n",
        "    prediction = prediction.iloc[:-window]\n",
        "    data['pred'] = prediction.astype(int)\n",
        "    \n",
        "    return data\n",
        "\n",
        "data = _produce_prediction(data, window=15)\n",
        "del (data['close'])\n",
        "data = data.dropna() # Some indicators produce NaN values for the first few rows, we just remove them here\n",
        "data.tail()\n",
        "print(len(data))"
      ]
    },
    {
      "cell_type": "code",
      "execution_count": null,
      "metadata": {
        "id": "Nu37FJWijy74"
      },
      "outputs": [],
      "source": [
        "#Step 3. Model Creation"
      ]
    },
    {
      "cell_type": "code",
      "execution_count": null,
      "metadata": {
        "id": "nkVZ0gE4j47d"
      },
      "outputs": [],
      "source": [
        "def _train_random_forest(X_train, y_train, X_test, y_test):\n",
        "\n",
        "    \"\"\"\n",
        "    Function that uses random forest classifier to train the model\n",
        "    :return:\n",
        "    \"\"\"\n",
        "    \n",
        "    # Create a new random forest classifier\n",
        "    rf = RandomForestClassifier()\n",
        "    \n",
        "    # Dictionary of all values we want to test for n_estimators\n",
        "    params_rf = {'n_estimators': [110,130,140,150,160,180,200]}\n",
        "    \n",
        "    # Use gridsearch to test all values for n_estimators\n",
        "    rf_gs = GridSearchCV(rf, params_rf, cv=5)\n",
        "    \n",
        "    # Fit model to training data\n",
        "    rf_gs.fit(X_train, y_train)\n",
        "    \n",
        "    # Save best model\n",
        "    rf_best = rf_gs.best_estimator_\n",
        "    \n",
        "    # Check best n_estimators value\n",
        "    print(rf_gs.best_params_)\n",
        "    \n",
        "    prediction = rf_best.predict(X_test)\n",
        "\n",
        "    print(classification_report(y_test, prediction))\n",
        "    print(confusion_matrix(y_test, prediction))\n",
        "    \n",
        "    return rf_best"
      ]
    },
    {
      "cell_type": "code",
      "execution_count": null,
      "metadata": {
        "id": "KYOGNLhckqTG"
      },
      "outputs": [],
      "source": [
        "def _train_KNN(X_train, y_train, X_test, y_test):\n",
        "\n",
        "    knn = KNeighborsClassifier()\n",
        "    # Create a dictionary of all values we want to test for n_neighbors\n",
        "    params_knn = {'n_neighbors': np.arange(1, 25)}\n",
        "    \n",
        "    # Use gridsearch to test all values for n_neighbors\n",
        "    knn_gs = GridSearchCV(knn, params_knn, cv=5)\n",
        "    \n",
        "    # Fit model to training data\n",
        "    knn_gs.fit(X_train, y_train)\n",
        "    \n",
        "    # Save best model\n",
        "    knn_best = knn_gs.best_estimator_\n",
        "     \n",
        "    # Check best n_neigbors value\n",
        "    print(knn_gs.best_params_)\n",
        "    \n",
        "    prediction = knn_best.predict(X_test)\n",
        "\n",
        "    print(classification_report(y_test, prediction))\n",
        "    print(confusion_matrix(y_test, prediction))\n",
        "    \n",
        "    return knn_best"
      ]
    },
    {
      "cell_type": "markdown",
      "metadata": {
        "id": "SgrUnQR3kxT0"
      },
      "source": [
        "#Voting classifier"
      ]
    },
    {
      "cell_type": "code",
      "execution_count": null,
      "metadata": {
        "id": "OdJrzifkktYg"
      },
      "outputs": [],
      "source": [
        "def _ensemble_model(rf_model, knn_model, X_train, y_train, X_test, y_test):\n",
        "    \n",
        "    # Create a dictionary of our models\n",
        "    estimators=[('knn', knn_model), ('rf', rf_model)]\n",
        "    \n",
        "    # Create our voting classifier, inputting our models\n",
        "    ensemble = VotingClassifier(estimators, voting='hard')\n",
        "    \n",
        "    #fit model to training data\n",
        "    ensemble.fit(X_train, y_train)\n",
        "    \n",
        "    #test our model on the test data\n",
        "    print(ensemble.score(X_test, y_test))\n",
        "    \n",
        "    prediction = ensemble.predict(X_test)\n",
        "\n",
        "    print(classification_report(y_test, prediction))\n",
        "    print(confusion_matrix(y_test, prediction))\n",
        "    \n",
        "    return ensemble"
      ]
    },
    {
      "cell_type": "code",
      "execution_count": null,
      "metadata": {
        "id": "7tjF9Qvn7fxl"
      },
      "outputs": [],
      "source": [
        "#ensemble_model = _ensemble_model(rf_model, knn_model, gbt_model, X_train, y_train, X_test, y_test)"
      ]
    },
    {
      "cell_type": "markdown",
      "metadata": {
        "id": "U1Y3Tc7JlKj8"
      },
      "source": [
        "#Cross_Validation definition"
      ]
    },
    {
      "cell_type": "code",
      "execution_count": null,
      "metadata": {
        "id": "HjUU961QlJpo"
      },
      "outputs": [],
      "source": [
        "def cross_Validation(data):\n",
        "\n",
        "    # Split data into equal partitions of size len_train\n",
        "    \n",
        "    num_train = 10 # Increment of how many starting points (len(data) / num_train  =  number of train-test sets)\n",
        "    len_train = 40 # Length of each train-test set\n",
        "    \n",
        "    # Lists to store the results from each model\n",
        "    rf_RESULTS = []\n",
        "    knn_RESULTS = []\n",
        "    gbt_RESULTS = []\n",
        "    ensemble_RESULTS = []\n",
        "    \n",
        "    i = 0\n",
        "    \n",
        "    # Models which will be used\n",
        "    rf = RandomForestClassifier()\n",
        "    knn = KNeighborsClassifier()\n",
        "    #gbt = GradientBoostingClassifier()\n",
        "\n",
        "   \n",
        "  \n",
        "    \n",
        "    \n",
        "    # Create a tuple list of our models\n",
        "    estimators=[('knn', knn), ('rf', rf)]\n",
        "    ensemble = VotingClassifier(estimators, voting='soft')\n",
        "    \n",
        "    \n",
        "    while True:\n",
        "        \n",
        "        # Partition the data into chunks of size len_train every num_train days\n",
        "        df = data.iloc[i * num_train : (i * num_train) + len_train]\n",
        "        i += 1\n",
        "        #print(i * num_train, (i * num_train) + len_train)\n",
        "        \n",
        "        if len(df) < 40:\n",
        "            break\n",
        "        \n",
        "        y = df['pred']\n",
        "        features = [x for x in df.columns if x not in ['pred']]\n",
        "        X = df[features]\n",
        "\n",
        "        X_train, X_test, y_train, y_test = train_test_split(X, y, train_size= 7 * len(X) // 10,shuffle=False)\n",
        "        \n",
        "        # fit models\n",
        "        rf.fit(X_train, y_train)\n",
        "        knn.fit(X_train, y_train)\n",
        "        ensemble.fit(X_train, y_train)\n",
        "        #gbt.fit(X_train,y_train)\n",
        "\n",
        "        \n",
        "\n",
        "              \n",
        "        # get predictions\n",
        "        rf_prediction = rf.predict(X_test)\n",
        "        knn_prediction = knn.predict(X_test)\n",
        "        ensemble_prediction = ensemble.predict(X_test)\n",
        "        \n",
        "        \n",
        "        #print('rf prediction is ', rf_prediction)\n",
        "        #print('knn prediction is ', knn_prediction)\n",
        "        #print('ensemble prediction is ', ensemble_prediction)\n",
        "        #print('truth values are ', y_test.values)\n",
        "        \n",
        "        # determine accuracy and append to results\n",
        "        rf_accuracy = accuracy_score(y_test.values, rf_prediction)\n",
        "        knn_accuracy = accuracy_score(y_test.values, knn_prediction)\n",
        "        ensemble_accuracy = accuracy_score(y_test.values, ensemble_prediction)\n",
        "\n",
        "            \n",
        "        #print(rf_accuracy)\n",
        "        #print(knn_accuracy)\n",
        "        #print(ensemble_accuracy)\n",
        "        rf_RESULTS.append(rf_accuracy)\n",
        "        knn_RESULTS.append(knn_accuracy)\n",
        "        ensemble_RESULTS.append(ensemble_accuracy)\n",
        "       \n",
        "                \n",
        "    print('RF Accuracy = ' + str( sum(rf_RESULTS) / len(rf_RESULTS)))\n",
        "    print('KNN Accuracy = ' + str( sum(knn_RESULTS) / len(knn_RESULTS)))\n",
        "    print('ENSEMBLE Accuracy = ' + str( sum(ensemble_RESULTS) / len(ensemble_RESULTS)))\n",
        "    \n"
      ]
    },
    {
      "cell_type": "markdown",
      "metadata": {
        "id": "ZYQ0-nlTlVo0"
      },
      "source": [
        "Putting all together"
      ]
    },
    {
      "cell_type": "code",
      "execution_count": null,
      "metadata": {
        "colab": {
          "background_save": true
        },
        "id": "RYkoWpEulXnH",
        "outputId": "3547080c-4f37-4e95-fba3-6deee83e6123"
      },
      "outputs": [
        {
          "name": "stdout",
          "output_type": "stream",
          "text": [
            "RF Accuracy = 0.6326256710590532\n",
            "KNN Accuracy = 0.634089799902391\n",
            "ENSEMBLE Accuracy = 0.6466569058077106\n"
          ]
        }
      ],
      "source": [
        "#Call  the cross validation function\n",
        "cross_Validation(data)"
      ]
    },
    {
      "cell_type": "markdown",
      "metadata": {
        "id": "j00Dd2Bpv4km"
      },
      "source": [
        "##Verification of Results"
      ]
    },
    {
      "cell_type": "code",
      "execution_count": null,
      "metadata": {
        "colab": {
          "background_save": true
        },
        "id": "9tdZ9QgVv3_o",
        "outputId": "9d81ac38-bfa1-4a04-f73e-738be01461cc"
      },
      "outputs": [
        {
          "data": {
            "text/html": [
              "\n",
              "  <div id=\"df-639a9a39-88ac-4863-acc8-88f4f45c4730\">\n",
              "    <div class=\"colab-df-container\">\n",
              "      <div>\n",
              "<style scoped>\n",
              "    .dataframe tbody tr th:only-of-type {\n",
              "        vertical-align: middle;\n",
              "    }\n",
              "\n",
              "    .dataframe tbody tr th {\n",
              "        vertical-align: top;\n",
              "    }\n",
              "\n",
              "    .dataframe thead th {\n",
              "        text-align: right;\n",
              "    }\n",
              "</style>\n",
              "<table border=\"1\" class=\"dataframe\">\n",
              "  <thead>\n",
              "    <tr style=\"text-align: right;\">\n",
              "      <th></th>\n",
              "      <th>close</th>\n",
              "      <th>14 period RSI</th>\n",
              "      <th>MACD</th>\n",
              "      <th>SIGNAL</th>\n",
              "      <th>14 period STOCH %K</th>\n",
              "      <th>MFV</th>\n",
              "      <th>14 period ATR</th>\n",
              "      <th>MOM</th>\n",
              "      <th>14 period MFI</th>\n",
              "      <th>ROC</th>\n",
              "      <th>OBV</th>\n",
              "      <th>20 period CCI</th>\n",
              "      <th>14 period EMV</th>\n",
              "      <th>VIm</th>\n",
              "      <th>VIp</th>\n",
              "      <th>ema50</th>\n",
              "      <th>ema21</th>\n",
              "      <th>ema15</th>\n",
              "      <th>ema5</th>\n",
              "      <th>normVol</th>\n",
              "    </tr>\n",
              "    <tr>\n",
              "      <th>Date</th>\n",
              "      <th></th>\n",
              "      <th></th>\n",
              "      <th></th>\n",
              "      <th></th>\n",
              "      <th></th>\n",
              "      <th></th>\n",
              "      <th></th>\n",
              "      <th></th>\n",
              "      <th></th>\n",
              "      <th></th>\n",
              "      <th></th>\n",
              "      <th></th>\n",
              "      <th></th>\n",
              "      <th></th>\n",
              "      <th></th>\n",
              "      <th></th>\n",
              "      <th></th>\n",
              "      <th></th>\n",
              "      <th></th>\n",
              "      <th></th>\n",
              "    </tr>\n",
              "  </thead>\n",
              "  <tbody>\n",
              "    <tr>\n",
              "      <th>2022-08-19</th>\n",
              "      <td>78.355974</td>\n",
              "      <td>68.145119</td>\n",
              "      <td>2.970459</td>\n",
              "      <td>2.697071</td>\n",
              "      <td>66.984427</td>\n",
              "      <td>-5.437054e+08</td>\n",
              "      <td>1.648852</td>\n",
              "      <td>4.113702</td>\n",
              "      <td>64.251929</td>\n",
              "      <td>4.921754</td>\n",
              "      <td>-9.773857e+06</td>\n",
              "      <td>74.221874</td>\n",
              "      <td>0.072178</td>\n",
              "      <td>0.765881</td>\n",
              "      <td>1.150126</td>\n",
              "      <td>1.022459</td>\n",
              "      <td>1.068160</td>\n",
              "      <td>1.056782</td>\n",
              "      <td>1.007707</td>\n",
              "      <td>0.702257</td>\n",
              "    </tr>\n",
              "    <tr>\n",
              "      <th>2022-08-22</th>\n",
              "      <td>76.031590</td>\n",
              "      <td>56.193681</td>\n",
              "      <td>2.633499</td>\n",
              "      <td>2.684356</td>\n",
              "      <td>35.749358</td>\n",
              "      <td>-5.458369e+08</td>\n",
              "      <td>1.687334</td>\n",
              "      <td>1.179795</td>\n",
              "      <td>57.344124</td>\n",
              "      <td>2.712587</td>\n",
              "      <td>-1.440483e+07</td>\n",
              "      <td>12.133133</td>\n",
              "      <td>0.003452</td>\n",
              "      <td>0.815015</td>\n",
              "      <td>1.009627</td>\n",
              "      <td>0.992282</td>\n",
              "      <td>1.034758</td>\n",
              "      <td>1.023698</td>\n",
              "      <td>0.981443</td>\n",
              "      <td>0.875062</td>\n",
              "    </tr>\n",
              "    <tr>\n",
              "      <th>2022-08-23</th>\n",
              "      <td>76.076056</td>\n",
              "      <td>56.351389</td>\n",
              "      <td>2.343034</td>\n",
              "      <td>2.616092</td>\n",
              "      <td>36.346883</td>\n",
              "      <td>-5.464443e+08</td>\n",
              "      <td>1.724926</td>\n",
              "      <td>1.173427</td>\n",
              "      <td>58.469892</td>\n",
              "      <td>2.469998</td>\n",
              "      <td>-9.689082e+06</td>\n",
              "      <td>1.063661</td>\n",
              "      <td>-0.001239</td>\n",
              "      <td>0.800138</td>\n",
              "      <td>0.981129</td>\n",
              "      <td>0.993001</td>\n",
              "      <td>1.033702</td>\n",
              "      <td>1.022640</td>\n",
              "      <td>0.984969</td>\n",
              "      <td>0.907556</td>\n",
              "    </tr>\n",
              "    <tr>\n",
              "      <th>2022-08-24</th>\n",
              "      <td>76.507618</td>\n",
              "      <td>57.934286</td>\n",
              "      <td>2.123187</td>\n",
              "      <td>2.517511</td>\n",
              "      <td>42.146219</td>\n",
              "      <td>-5.461190e+08</td>\n",
              "      <td>1.752475</td>\n",
              "      <td>0.150698</td>\n",
              "      <td>64.790867</td>\n",
              "      <td>2.212135</td>\n",
              "      <td>-4.940864e+06</td>\n",
              "      <td>2.125280</td>\n",
              "      <td>0.011867</td>\n",
              "      <td>0.780075</td>\n",
              "      <td>1.010361</td>\n",
              "      <td>0.998661</td>\n",
              "      <td>1.037700</td>\n",
              "      <td>1.026495</td>\n",
              "      <td>0.992118</td>\n",
              "      <td>0.927123</td>\n",
              "    </tr>\n",
              "    <tr>\n",
              "      <th>2022-08-25</th>\n",
              "      <td>77.568666</td>\n",
              "      <td>61.619546</td>\n",
              "      <td>2.011388</td>\n",
              "      <td>2.416286</td>\n",
              "      <td>49.888244</td>\n",
              "      <td>-5.471240e+08</td>\n",
              "      <td>1.801965</td>\n",
              "      <td>-0.441257</td>\n",
              "      <td>71.046016</td>\n",
              "      <td>3.559337</td>\n",
              "      <td>1.021177e+05</td>\n",
              "      <td>37.376304</td>\n",
              "      <td>0.054901</td>\n",
              "      <td>0.717970</td>\n",
              "      <td>1.057588</td>\n",
              "      <td>1.012262</td>\n",
              "      <td>1.049606</td>\n",
              "      <td>1.037912</td>\n",
              "      <td>1.004893</td>\n",
              "      <td>0.987199</td>\n",
              "    </tr>\n",
              "  </tbody>\n",
              "</table>\n",
              "</div>\n",
              "      <button class=\"colab-df-convert\" onclick=\"convertToInteractive('df-639a9a39-88ac-4863-acc8-88f4f45c4730')\"\n",
              "              title=\"Convert this dataframe to an interactive table.\"\n",
              "              style=\"display:none;\">\n",
              "        \n",
              "  <svg xmlns=\"http://www.w3.org/2000/svg\" height=\"24px\"viewBox=\"0 0 24 24\"\n",
              "       width=\"24px\">\n",
              "    <path d=\"M0 0h24v24H0V0z\" fill=\"none\"/>\n",
              "    <path d=\"M18.56 5.44l.94 2.06.94-2.06 2.06-.94-2.06-.94-.94-2.06-.94 2.06-2.06.94zm-11 1L8.5 8.5l.94-2.06 2.06-.94-2.06-.94L8.5 2.5l-.94 2.06-2.06.94zm10 10l.94 2.06.94-2.06 2.06-.94-2.06-.94-.94-2.06-.94 2.06-2.06.94z\"/><path d=\"M17.41 7.96l-1.37-1.37c-.4-.4-.92-.59-1.43-.59-.52 0-1.04.2-1.43.59L10.3 9.45l-7.72 7.72c-.78.78-.78 2.05 0 2.83L4 21.41c.39.39.9.59 1.41.59.51 0 1.02-.2 1.41-.59l7.78-7.78 2.81-2.81c.8-.78.8-2.07 0-2.86zM5.41 20L4 18.59l7.72-7.72 1.47 1.35L5.41 20z\"/>\n",
              "  </svg>\n",
              "      </button>\n",
              "      \n",
              "  <style>\n",
              "    .colab-df-container {\n",
              "      display:flex;\n",
              "      flex-wrap:wrap;\n",
              "      gap: 12px;\n",
              "    }\n",
              "\n",
              "    .colab-df-convert {\n",
              "      background-color: #E8F0FE;\n",
              "      border: none;\n",
              "      border-radius: 50%;\n",
              "      cursor: pointer;\n",
              "      display: none;\n",
              "      fill: #1967D2;\n",
              "      height: 32px;\n",
              "      padding: 0 0 0 0;\n",
              "      width: 32px;\n",
              "    }\n",
              "\n",
              "    .colab-df-convert:hover {\n",
              "      background-color: #E2EBFA;\n",
              "      box-shadow: 0px 1px 2px rgba(60, 64, 67, 0.3), 0px 1px 3px 1px rgba(60, 64, 67, 0.15);\n",
              "      fill: #174EA6;\n",
              "    }\n",
              "\n",
              "    [theme=dark] .colab-df-convert {\n",
              "      background-color: #3B4455;\n",
              "      fill: #D2E3FC;\n",
              "    }\n",
              "\n",
              "    [theme=dark] .colab-df-convert:hover {\n",
              "      background-color: #434B5C;\n",
              "      box-shadow: 0px 1px 3px 1px rgba(0, 0, 0, 0.15);\n",
              "      filter: drop-shadow(0px 1px 2px rgba(0, 0, 0, 0.3));\n",
              "      fill: #FFFFFF;\n",
              "    }\n",
              "  </style>\n",
              "\n",
              "      <script>\n",
              "        const buttonEl =\n",
              "          document.querySelector('#df-639a9a39-88ac-4863-acc8-88f4f45c4730 button.colab-df-convert');\n",
              "        buttonEl.style.display =\n",
              "          google.colab.kernel.accessAllowed ? 'block' : 'none';\n",
              "\n",
              "        async function convertToInteractive(key) {\n",
              "          const element = document.querySelector('#df-639a9a39-88ac-4863-acc8-88f4f45c4730');\n",
              "          const dataTable =\n",
              "            await google.colab.kernel.invokeFunction('convertToInteractive',\n",
              "                                                     [key], {});\n",
              "          if (!dataTable) return;\n",
              "\n",
              "          const docLinkHtml = 'Like what you see? Visit the ' +\n",
              "            '<a target=\"_blank\" href=https://colab.research.google.com/notebooks/data_table.ipynb>data table notebook</a>'\n",
              "            + ' to learn more about interactive tables.';\n",
              "          element.innerHTML = '';\n",
              "          dataTable['output_type'] = 'display_data';\n",
              "          await google.colab.output.renderOutput(dataTable, element);\n",
              "          const docLink = document.createElement('div');\n",
              "          docLink.innerHTML = docLinkHtml;\n",
              "          element.appendChild(docLink);\n",
              "        }\n",
              "      </script>\n",
              "    </div>\n",
              "  </div>\n",
              "  "
            ],
            "text/plain": [
              "                close  14 period RSI      MACD    SIGNAL  14 period STOCH %K  \\\n",
              "Date                                                                           \n",
              "2022-08-19  78.355974      68.145119  2.970459  2.697071           66.984427   \n",
              "2022-08-22  76.031590      56.193681  2.633499  2.684356           35.749358   \n",
              "2022-08-23  76.076056      56.351389  2.343034  2.616092           36.346883   \n",
              "2022-08-24  76.507618      57.934286  2.123187  2.517511           42.146219   \n",
              "2022-08-25  77.568666      61.619546  2.011388  2.416286           49.888244   \n",
              "\n",
              "                     MFV  14 period ATR       MOM  14 period MFI       ROC  \\\n",
              "Date                                                                         \n",
              "2022-08-19 -5.437054e+08       1.648852  4.113702      64.251929  4.921754   \n",
              "2022-08-22 -5.458369e+08       1.687334  1.179795      57.344124  2.712587   \n",
              "2022-08-23 -5.464443e+08       1.724926  1.173427      58.469892  2.469998   \n",
              "2022-08-24 -5.461190e+08       1.752475  0.150698      64.790867  2.212135   \n",
              "2022-08-25 -5.471240e+08       1.801965 -0.441257      71.046016  3.559337   \n",
              "\n",
              "                     OBV  20 period CCI  14 period EMV       VIm       VIp  \\\n",
              "Date                                                                         \n",
              "2022-08-19 -9.773857e+06      74.221874       0.072178  0.765881  1.150126   \n",
              "2022-08-22 -1.440483e+07      12.133133       0.003452  0.815015  1.009627   \n",
              "2022-08-23 -9.689082e+06       1.063661      -0.001239  0.800138  0.981129   \n",
              "2022-08-24 -4.940864e+06       2.125280       0.011867  0.780075  1.010361   \n",
              "2022-08-25  1.021177e+05      37.376304       0.054901  0.717970  1.057588   \n",
              "\n",
              "               ema50     ema21     ema15      ema5   normVol  \n",
              "Date                                                          \n",
              "2022-08-19  1.022459  1.068160  1.056782  1.007707  0.702257  \n",
              "2022-08-22  0.992282  1.034758  1.023698  0.981443  0.875062  \n",
              "2022-08-23  0.993001  1.033702  1.022640  0.984969  0.907556  \n",
              "2022-08-24  0.998661  1.037700  1.026495  0.992118  0.927123  \n",
              "2022-08-25  1.012262  1.049606  1.037912  1.004893  0.987199  "
            ]
          },
          "execution_count": 18,
          "metadata": {},
          "output_type": "execute_result"
        }
      ],
      "source": [
        "live_pred_data.head()"
      ]
    }
  ],
  "metadata": {
    "colab": {
      "provenance": []
    },
    "kernelspec": {
      "display_name": "Python 3",
      "name": "python3"
    },
    "language_info": {
      "name": "python"
    }
  },
  "nbformat": 4,
  "nbformat_minor": 0
}